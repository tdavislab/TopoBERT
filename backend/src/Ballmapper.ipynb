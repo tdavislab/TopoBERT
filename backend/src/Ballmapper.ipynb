{
 "cells": [
  {
   "cell_type": "code",
   "execution_count": 1,
   "id": "9b9664df-17b0-44d8-9b06-6e9129168995",
   "metadata": {},
   "outputs": [],
   "source": [
    "import numpy as np\n",
    "import pandas as pd\n",
    "from pyBallMapper import BallMapper\n",
    "from gen_mapper_graph import read_file_from_zip\n",
    "import networkx as nx\n",
    "from matplotlib.colors import ListedColormap\n",
    "from matplotlib import cm\n",
    "import matplotlib.pyplot as plt\n",
    "\n",
    "my_rainbow_palette = cm.get_cmap(name='viridis')"
   ]
  },
  {
   "cell_type": "code",
   "execution_count": 16,
   "id": "bc275422-915a-482a-aa67-b1061aa41176",
   "metadata": {},
   "outputs": [],
   "source": [
    "data = read_file_from_zip('../data/Supersense-Role/SS_fine_tuned.zip', 'fine_tuning_changes/150.txt')"
   ]
  },
  {
   "cell_type": "code",
   "execution_count": 17,
   "id": "64e07c99-e33b-437e-ae49-ba9637e0bcaf",
   "metadata": {},
   "outputs": [
    {
     "data": {
      "text/plain": [
       "20.94128419274894"
      ]
     },
     "execution_count": 17,
     "metadata": {},
     "output_type": "execute_result"
    }
   ],
   "source": [
    "data.apply(np.linalg.norm, axis=1).mean()"
   ]
  },
  {
   "cell_type": "code",
   "execution_count": 18,
   "id": "e5d83fd3-df25-49a3-9ee3-360b3376b5ff",
   "metadata": {},
   "outputs": [],
   "source": [
    "g = BallMapper(data.values, pd.DataFrame(data.apply(np.linalg.norm, axis=1)), 13)"
   ]
  },
  {
   "cell_type": "code",
   "execution_count": 19,
   "id": "5b40e17d-8d9f-4d1e-8fb9-11bec6f2afa1",
   "metadata": {},
   "outputs": [
    {
     "data": {
      "text/plain": [
       "662"
      ]
     },
     "execution_count": 19,
     "metadata": {},
     "output_type": "execute_result"
    }
   ],
   "source": [
    "len(g.Graph.nodes)"
   ]
  },
  {
   "cell_type": "code",
   "execution_count": 6,
   "id": "e97e0aa0-6d2b-4b83-9279-5f687cd3ef3f",
   "metadata": {},
   "outputs": [
    {
     "data": {
      "image/png": "[encoded data removed]",
      "text/plain": [
       "<Figure size 576x432 with 2 Axes>"
      ]
     },
     "metadata": {
      "needs_background": "light"
     },
     "output_type": "display_data"
    }
   ],
   "source": [
    "plt.figure(figsize= (8,6))\n",
    "\n",
    "nx.draw_networkx(g.Graph, \n",
    "                 pos=nx.spring_layout(g.Graph),\n",
    "                 node_color = [g.Graph.nodes[node]['color'] for node in g.Graph.nodes],\n",
    "                 node_size =  [g.Graph.nodes[node]['size rescaled'] for node in g.Graph.nodes],\n",
    "                 alpha=0.8)\n",
    "\n",
    "# plot a legend\n",
    "sm = plt.cm.ScalarMappable(cmap = my_rainbow_palette,\n",
    "                           norm = plt.Normalize(vmin=g.min_color_value, \n",
    "                                                vmax=g.max_color_value))\n",
    "plt.colorbar(sm)\n",
    "plt.title('BM graph colored by price')\n",
    "plt.show()"
   ]
  },
  {
   "cell_type": "code",
   "execution_count": null,
   "id": "9d13b054-95c4-40cd-9d20-34afa4db7a31",
   "metadata": {},
   "outputs": [],
   "source": []
  }
 ],
 "metadata": {
  "kernelspec": {
   "display_name": "Python [conda env:topobert]",
   "language": "python",
   "name": "conda-env-topobert-py"
  },
  "language_info": {
   "codemirror_mode": {
    "name": "ipython",
    "version": 3
   },
   "file_extension": ".py",
   "mimetype": "text/x-python",
   "name": "python",
   "nbconvert_exporter": "python",
   "pygments_lexer": "ipython3",
   "version": "3.9.5"
  }
 },
 "nbformat": 4,
 "nbformat_minor": 5
}
