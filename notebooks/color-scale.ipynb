{
 "cells": [
  {
   "cell_type": "code",
   "execution_count": 2,
   "metadata": {},
   "outputs": [],
   "source": [
    "import matplotlib.pyplot as plt\n",
    "import seaborn as sns\n",
    "import numpy as np"
   ]
  },
  {
   "cell_type": "code",
   "execution_count": 28,
   "metadata": {},
   "outputs": [
    {
     "data": {
      "text/plain": [
       "['#66c2a5',\n",
       " '#fc8d62',\n",
       " '#8da0cb',\n",
       " '#e78ac3',\n",
       " '#a6d854',\n",
       " '#ffd92f',\n",
       " '#e5c494',\n",
       " '#b3b3b3']"
      ]
     },
     "execution_count": 28,
     "metadata": {},
     "output_type": "execute_result"
    }
   ],
   "source": [
    "list(sns.color_palette(\"Set2\").as_hex())"
   ]
  },
  {
   "cell_type": "code",
   "execution_count": 23,
   "metadata": {},
   "outputs": [
    {
     "data": {
      "text/plain": [
       "['#19122b',\n",
       " '#17344c',\n",
       " '#185b48',\n",
       " '#3c7632',\n",
       " '#7e7a36',\n",
       " '#bc7967',\n",
       " '#d486af',\n",
       " '#caa9e7',\n",
       " '#c2d2f3',\n",
       " '#d6f0ef']"
      ]
     },
     "execution_count": 23,
     "metadata": {},
     "output_type": "execute_result"
    }
   ],
   "source": [
    "categories = [\n",
    "    ['nsubj', 'obj','iobj', 'csubj','ccomp','xcomp'],\n",
    "]"
   ]
  }
 ],
 "metadata": {
  "interpreter": {
   "hash": "0040efd99ec3b1cdf9721b27fab021012b317d448c98814eeb21793f8dae686d"
  },
  "kernelspec": {
   "display_name": "Python 3.7.9 ('probing')",
   "language": "python",
   "name": "python3"
  },
  "language_info": {
   "codemirror_mode": {
    "name": "ipython",
    "version": 3
   },
   "file_extension": ".py",
   "mimetype": "text/x-python",
   "name": "python",
   "nbconvert_exporter": "python",
   "pygments_lexer": "ipython3",
   "version": "3.7.9"
  },
  "orig_nbformat": 4
 },
 "nbformat": 4,
 "nbformat_minor": 2
}
