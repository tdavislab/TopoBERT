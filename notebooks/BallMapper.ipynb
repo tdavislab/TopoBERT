{
 "cells": [
  {
   "cell_type": "code",
   "execution_count": 30,
   "metadata": {},
   "outputs": [],
   "source": [
    "from calendar import leapdays\n",
    "from collections import defaultdict\n",
    "import dataclasses\n",
    "from email.policy import default\n",
    "\n",
    "import kneed\n",
    "import numpy as np\n",
    "import pandas as pd\n",
    "import zipfile\n",
    "import ast\n",
    "import kmapper as km\n",
    "from sklearn.cluster import DBSCAN\n",
    "from scipy.spatial.distance import pdist, squareform\n",
    "from sklearn.neighbors import KDTree\n",
    "from networkx.readwrite import json_graph\n",
    "import networkx as nx\n",
    "import json\n",
    "import os\n",
    "import itertools\n",
    "\n",
    "from sklearn.decomposition import PCA\n",
    "from sklearn.neighbors import NearestNeighbors\n",
    "from sklearn.datasets import make_moons\n",
    "from tqdm import tqdm\n",
    "from dataclasses import dataclass\n",
    "\n",
    "import matplotlib.pyplot as plt"
   ]
  },
  {
   "cell_type": "code",
   "execution_count": 153,
   "metadata": {},
   "outputs": [],
   "source": [
    "class BallMapper:\n",
    "    def __init__(self) -> None:\n",
    "        pass\n",
    "\n",
    "    def map(self, data: pd.DataFrame, epsilon: float):\n",
    "        \"\"\"\n",
    "        Maps the data to a ball graph.\n",
    "\n",
    "        Parameters\n",
    "        ---------\n",
    "        data: pd.DataFrame\n",
    "            The data to map.\n",
    "        epsilon: float\n",
    "            The radius of the ball.\n",
    "        \"\"\"\n",
    "        graph = {}\n",
    "\n",
    "        coverage = [False] * len(data)\n",
    "        nodes = dict()\n",
    "        edges = set()\n",
    "\n",
    "        # compute a KD-tree for fast radius search\n",
    "        tree = KDTree(data, leaf_size=5)\n",
    "\n",
    "        # iterate over all points\n",
    "        for i in range(len(data)):\n",
    "            if not coverage[i]:\n",
    "                # find all points in the ball\n",
    "                neighbors = tree.query_radius([data.iloc[i]], r=epsilon)[0]\n",
    "\n",
    "                # add the point to the graph\n",
    "                nodes[i] = set(neighbors.tolist())\n",
    "\n",
    "                # mark all points in the ball as covered\n",
    "                for j in neighbors:\n",
    "                    coverage[j] = True\n",
    "\n",
    "                # mark the point as covered\n",
    "                coverage[i] = True\n",
    "\n",
    "        # iterate over all nodes\n",
    "        for i in nodes:\n",
    "            for j in nodes:\n",
    "                if i != j and nodes[i].intersection(nodes[j]):\n",
    "                    edges.add(tuple(sorted((i, j))))\n",
    "\n",
    "        graph['nodes'] = {k: list(v) for k, v in nodes.items()}\n",
    "        graph['links'] = {i: [j] for i, j in edges}\n",
    "\n",
    "        return graph\n",
    "        \n",
    "def elbow_eps(data):\n",
    "    n_neighbors = 4\n",
    "    nbrs = NearestNeighbors(n_neighbors=n_neighbors).fit(data)\n",
    "    distances, indices = nbrs.kneighbors(data)\n",
    "    distances = np.sort(distances, axis=0)[::-1]\n",
    "    kneedle = kneed.KneeLocator(distances[:, n_neighbors - 1], np.linspace(0, 1, num=len(distances)), curve='convex', direction='decreasing')\n",
    "    kneedle.plot_knee()\n",
    "    eps = kneedle.knee\n",
    "    return eps"
   ]
  },
  {
   "cell_type": "code",
   "execution_count": 154,
   "metadata": {},
   "outputs": [
    {
     "ename": "TypeError",
     "evalue": "object of type 'int' has no len()",
     "output_type": "error",
     "traceback": [
      "\u001b[1;31m---------------------------------------------------------------------------\u001b[0m",
      "\u001b[1;31mTypeError\u001b[0m                                 Traceback (most recent call last)",
      "\u001b[1;32m<ipython-input-154-ee0c32e05a96>\u001b[0m in \u001b[0;36m<module>\u001b[1;34m\u001b[0m\n\u001b[0;32m      9\u001b[0m \u001b[0mG\u001b[0m \u001b[1;33m=\u001b[0m \u001b[0mnx\u001b[0m\u001b[1;33m.\u001b[0m\u001b[0mGraph\u001b[0m\u001b[1;33m(\u001b[0m\u001b[1;33m)\u001b[0m\u001b[1;33m\u001b[0m\u001b[1;33m\u001b[0m\u001b[0m\n\u001b[0;32m     10\u001b[0m \u001b[0mG\u001b[0m\u001b[1;33m.\u001b[0m\u001b[0madd_nodes_from\u001b[0m\u001b[1;33m(\u001b[0m\u001b[0mgraph\u001b[0m\u001b[1;33m[\u001b[0m\u001b[1;34m'nodes'\u001b[0m\u001b[1;33m]\u001b[0m\u001b[1;33m)\u001b[0m\u001b[1;33m\u001b[0m\u001b[1;33m\u001b[0m\u001b[0m\n\u001b[1;32m---> 11\u001b[1;33m \u001b[0mG\u001b[0m\u001b[1;33m.\u001b[0m\u001b[0madd_edges_from\u001b[0m\u001b[1;33m(\u001b[0m\u001b[0mgraph\u001b[0m\u001b[1;33m[\u001b[0m\u001b[1;34m'links'\u001b[0m\u001b[1;33m]\u001b[0m\u001b[1;33m)\u001b[0m\u001b[1;33m\u001b[0m\u001b[1;33m\u001b[0m\u001b[0m\n\u001b[0m\u001b[0;32m     12\u001b[0m \u001b[1;33m\u001b[0m\u001b[0m\n\u001b[0;32m     13\u001b[0m \u001b[0mpos\u001b[0m \u001b[1;33m=\u001b[0m \u001b[0mnx\u001b[0m\u001b[1;33m.\u001b[0m\u001b[0mspring_layout\u001b[0m\u001b[1;33m(\u001b[0m\u001b[0mG\u001b[0m\u001b[1;33m)\u001b[0m\u001b[1;33m\u001b[0m\u001b[1;33m\u001b[0m\u001b[0m\n",
      "\u001b[1;32m~\\anaconda3\\envs\\probing\\lib\\site-packages\\networkx\\classes\\graph.py\u001b[0m in \u001b[0;36madd_edges_from\u001b[1;34m(self, ebunch_to_add, **attr)\u001b[0m\n\u001b[0;32m    921\u001b[0m         \"\"\"\n\u001b[0;32m    922\u001b[0m         \u001b[1;32mfor\u001b[0m \u001b[0me\u001b[0m \u001b[1;32min\u001b[0m \u001b[0mebunch_to_add\u001b[0m\u001b[1;33m:\u001b[0m\u001b[1;33m\u001b[0m\u001b[1;33m\u001b[0m\u001b[0m\n\u001b[1;32m--> 923\u001b[1;33m             \u001b[0mne\u001b[0m \u001b[1;33m=\u001b[0m \u001b[0mlen\u001b[0m\u001b[1;33m(\u001b[0m\u001b[0me\u001b[0m\u001b[1;33m)\u001b[0m\u001b[1;33m\u001b[0m\u001b[1;33m\u001b[0m\u001b[0m\n\u001b[0m\u001b[0;32m    924\u001b[0m             \u001b[1;32mif\u001b[0m \u001b[0mne\u001b[0m \u001b[1;33m==\u001b[0m \u001b[1;36m3\u001b[0m\u001b[1;33m:\u001b[0m\u001b[1;33m\u001b[0m\u001b[1;33m\u001b[0m\u001b[0m\n\u001b[0;32m    925\u001b[0m                 \u001b[0mu\u001b[0m\u001b[1;33m,\u001b[0m \u001b[0mv\u001b[0m\u001b[1;33m,\u001b[0m \u001b[0mdd\u001b[0m \u001b[1;33m=\u001b[0m \u001b[0me\u001b[0m\u001b[1;33m\u001b[0m\u001b[1;33m\u001b[0m\u001b[0m\n",
      "\u001b[1;31mTypeError\u001b[0m: object of type 'int' has no len()"
     ]
    }
   ],
   "source": [
    "activations = pd.read_csv('../backend/data/ss-role/fine-tuned-bert-base-uncased/train/176/12.txt', delim_whitespace=True, header=None)\n",
    "labels = pd.read_csv('../backend/data/ss-role/entities/train.txt', delim_whitespace=True, header=None)\n",
    "X = activations\n",
    "# plt.scatter(X.iloc[:, 0], X.iloc[:, 1])\n",
    "\n",
    "bm = BallMapper()\n",
    "graph = bm.map(X, epsilon=20)\n",
    "\n",
    "G = nx.Graph()\n",
    "G.add_nodes_from(graph['nodes'])\n",
    "G.add_edges_from(graph['links'])\n",
    "\n",
    "pos = nx.spring_layout(G)\n",
    "nx.draw(G, pos=pos, node_size=10, node_color='blue', edge_color='black', width=1, alpha=0.5)"
   ]
  },
  {
   "cell_type": "code",
   "execution_count": 155,
   "metadata": {},
   "outputs": [
    {
     "data": {
      "text/plain": [
       "{293: [552],\n",
       " 239: [932],\n",
       " 9: [35],\n",
       " 13: [24],\n",
       " 11: [30],\n",
       " 78: [2849],\n",
       " 35: [70],\n",
       " 110: [798],\n",
       " 2: [962],\n",
       " 24: [932],\n",
       " 47: [782],\n",
       " 151: [932],\n",
       " 44: [2499],\n",
       " 21: [110],\n",
       " 23: [30],\n",
       " 32: [552],\n",
       " 135: [3004],\n",
       " 14: [41],\n",
       " 472: [2499],\n",
       " 1: [27],\n",
       " 4: [30],\n",
       " 20: [2849],\n",
       " 36: [239],\n",
       " 27: [2259],\n",
       " 77: [3004],\n",
       " 70: [97],\n",
       " 33: [35],\n",
       " 3: [13],\n",
       " 798: [932],\n",
       " 30: [35],\n",
       " 2259: [3004],\n",
       " 552: [932],\n",
       " 12: [21],\n",
       " 1503: [3004],\n",
       " 62: [239],\n",
       " 41: [70],\n",
       " 43: [110],\n",
       " 128: [1503],\n",
       " 2499: [3194],\n",
       " 2849: [3798],\n",
       " 0: [13],\n",
       " 2888: [3004],\n",
       " 1671: [2849],\n",
       " 97: [147]}"
      ]
     },
     "execution_count": 155,
     "metadata": {},
     "output_type": "execute_result"
    }
   ],
   "source": [
    "graph['links']"
   ]
  },
  {
   "cell_type": "code",
   "execution_count": 151,
   "metadata": {},
   "outputs": [
    {
     "data": {
      "text/plain": [
       "defaultdict(list,\n",
       "            {'cube6_cluster0': ['cube7_cluster10'],\n",
       "             'cube7_cluster0': ['cube8_cluster0'],\n",
       "             'cube7_cluster4': ['cube8_cluster7'],\n",
       "             'cube7_cluster5': ['cube8_cluster16'],\n",
       "             'cube7_cluster6': ['cube8_cluster26'],\n",
       "             'cube7_cluster10': ['cube8_cluster24'],\n",
       "             'cube7_cluster11': ['cube8_cluster5'],\n",
       "             'cube7_cluster12': ['cube8_cluster19'],\n",
       "             'cube7_cluster13': ['cube8_cluster10'],\n",
       "             'cube7_cluster14': ['cube8_cluster11'],\n",
       "             'cube7_cluster20': ['cube8_cluster12'],\n",
       "             'cube7_cluster22': ['cube8_cluster15'],\n",
       "             'cube7_cluster25': ['cube8_cluster29'],\n",
       "             'cube7_cluster27': ['cube8_cluster1'],\n",
       "             'cube7_cluster28': ['cube8_cluster23'],\n",
       "             'cube7_cluster29': ['cube8_cluster9'],\n",
       "             'cube7_cluster33': ['cube8_cluster30'],\n",
       "             'cube7_cluster34': ['cube8_cluster31'],\n",
       "             'cube7_cluster35': ['cube8_cluster2'],\n",
       "             'cube7_cluster37': ['cube8_cluster4'],\n",
       "             'cube7_cluster38': ['cube8_cluster14'],\n",
       "             'cube7_cluster43': ['cube8_cluster28'],\n",
       "             'cube7_cluster48': ['cube8_cluster20'],\n",
       "             'cube7_cluster50': ['cube8_cluster18'],\n",
       "             'cube7_cluster51': ['cube8_cluster27']})"
      ]
     },
     "execution_count": 151,
     "metadata": {},
     "output_type": "execute_result"
    }
   ],
   "source": [
    "kmapper = km.KeplerMapper(verbose=0)\n",
    "projected_data = kmapper.fit_transform(activations, projection='l2norm')\n",
    "mgraph = kmapper.map(projected_data, activations, clusterer=DBSCAN(eps=8))\n",
    "\n",
    "mgraph['links']"
   ]
  },
  {
   "cell_type": "code",
   "execution_count": 145,
   "metadata": {},
   "outputs": [
    {
     "data": {
      "text/plain": [
       "(52, 768)"
      ]
     },
     "execution_count": 145,
     "metadata": {},
     "output_type": "execute_result"
    }
   ],
   "source": [
    "np.vstack([np.mean(activations.iloc[graph['nodes'][node_name]], axis=0) for node_name in graph['nodes']]).shape\n",
    "# [activations.iloc[list(graph['nodes'][node_name])] for node_name in graph['nodes']]"
   ]
  }
 ],
 "metadata": {
  "interpreter": {
   "hash": "bc5676d886a2778973ff3e34aec4cad8965d07457120715c016f8e27d3c13f9b"
  },
  "kernelspec": {
   "display_name": "Python 3.7.9 ('probing')",
   "language": "python",
   "name": "python3"
  },
  "language_info": {
   "codemirror_mode": {
    "name": "ipython",
    "version": 3
   },
   "file_extension": ".py",
   "mimetype": "text/x-python",
   "name": "python",
   "nbconvert_exporter": "python",
   "pygments_lexer": "ipython3",
   "version": "3.7.9"
  },
  "orig_nbformat": 4
 },
 "nbformat": 4,
 "nbformat_minor": 2
}
