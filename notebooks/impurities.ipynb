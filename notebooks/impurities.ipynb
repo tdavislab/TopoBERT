{
 "cells": [
  {
   "cell_type": "code",
   "execution_count": 1,
   "id": "7e40a708-c33d-4fdf-ab42-f2f98f6e9e31",
   "metadata": {},
   "outputs": [],
   "source": [
    "import numpy as np\n",
    "import pandas as pd\n",
    "import os\n",
    "import json\n",
    "from tqdm.notebook import tqdm\n",
    "import matplotlib.pyplot as plt\n",
    "from collections import defaultdict, Counter\n",
    "from joblib import Parallel, delayed"
   ]
  },
  {
   "cell_type": "code",
   "execution_count": 2,
   "id": "ac720ab0-9f00-4dff-b9c3-82dfaa75c631",
   "metadata": {},
   "outputs": [],
   "source": [
    "# Paths\n",
    "LABEL_FILE = '../data/Supersense-Role/entities/train.txt'\n",
    "ACTIVATION_FILE = '../data/Supersense-Role/SS_fine_tuned.zip'\n",
    "GRAPH_OUTPUT_PATH = '../frontend/public/static/mapper_graphs/euclidean_l2_50_50/'\n",
    "\n",
    "NUM_EPOCHS = 177\n",
    "NUM_POINTS = 4282"
   ]
  },
  {
   "cell_type": "code",
   "execution_count": 3,
   "id": "2268ba2e-9629-4c58-948b-dac2ac7748e9",
   "metadata": {},
   "outputs": [],
   "source": [
    "def node_purity(node, label):\n",
    "    metadata = node['membership']['metadata']\n",
    "    label_counts = Counter([x[3] for x in metadata])\n",
    "    return (label_counts[label], len(metadata))\n",
    "\n",
    "def compute_purities(fileindex):\n",
    "    # compute purities for all nodes in the file\n",
    "    graph_path = GRAPH_OUTPUT_PATH\n",
    "    filename = f'{fileindex}.json'\n",
    "\n",
    "    with open(os.path.join(graph_path,filename), 'r') as graph_file:\n",
    "        graph = json.load(graph_file)\n",
    "\n",
    "        point_node_purities = defaultdict(list)\n",
    "\n",
    "        for node in graph['nodes']:\n",
    "            metadata = node['membership']['metadata']\n",
    "\n",
    "            for i, point_id in enumerate(node['membership']['membership_ids']):\n",
    "                point_node_purities[point_id].append((i, node_purity(node, metadata[i][3])))\n",
    "                \n",
    "    return point_node_purities\n",
    "\n",
    "# List where each element summarizes the purities of the points for a particular epoch\n",
    "# len(purities) = num of epochs"
   ]
  },
  {
   "cell_type": "code",
   "execution_count": 4,
   "id": "dad94c23-b6c1-40cc-9b2d-daeb4663fd16",
   "metadata": {},
   "outputs": [
    {
     "data": {
      "application/vnd.jupyter.widget-view+json": {
       "model_id": "efb25f0a42d844f3a6a33828ec82d2ce",
       "version_major": 2,
       "version_minor": 0
      },
      "text/plain": [
       "  0%|          | 0/177 [00:00<?, ?it/s]"
      ]
     },
     "metadata": {},
     "output_type": "display_data"
    },
    {
     "name": "stdout",
     "output_type": "stream",
     "text": [
      "Wall time: 4.81 s\n"
     ]
    }
   ],
   "source": [
    "%%time\n",
    "# purities = [compute_purities(fileindex) for fileindex in tqdm(range(NUM_EPOCHS))]\n",
    "purities = Parallel(n_jobs=-1)(delayed(compute_purities)(fileindex) for fileindex in tqdm(range(NUM_EPOCHS)))"
   ]
  },
  {
   "cell_type": "code",
   "execution_count": 5,
   "id": "1f0a605e-2d9e-4da3-8640-9c68bb40c5a6",
   "metadata": {},
   "outputs": [],
   "source": [
    "# consolidate purities into one \n",
    "# For each point, track all purities across all epochs\n",
    "\n",
    "def purity_summary(purities):\n",
    "    if purities is None:\n",
    "        return 0\n",
    "    else:\n",
    "        plist = [x[1] for x in purities]\n",
    "        \n",
    "        numerator = sum([x[0] for x in plist])\n",
    "        denominator = sum([x[1] for x in plist])\n",
    "        if denominator != 0:\n",
    "            return numerator / denominator\n",
    "        else:\n",
    "            return 0\n",
    "\n",
    "point_purity_tracker = defaultdict(list)\n",
    "\n",
    "for point_number in range(NUM_POINTS):\n",
    "    for iteration in range(NUM_EPOCHS):\n",
    "        \n",
    "        iteration_purity_dict = purities[iteration]\n",
    "        \n",
    "        point_purity_tracker[point_number].append((iteration, purity_summary(iteration_purity_dict[point_number])))\n",
    "        \n",
    "\n",
    "node_purities_df = pd.DataFrame(columns=['pointNum'] + [f'epoch_{x}_purity' for x in range(NUM_EPOCHS)])\n",
    "\n",
    "for pointNum in range(NUM_POINTS):\n",
    "    row = [pointNum] + [x[1] for x in point_purity_tracker[pointNum]]\n",
    "    node_purities_df.loc[pointNum] = row"
   ]
  },
  {
   "cell_type": "code",
   "execution_count": 15,
   "id": "9f4ade0b-c42d-4f58-a503-9500eb14f1ad",
   "metadata": {},
   "outputs": [],
   "source": [
    "node_purities_df.to_csv(os.path.join(GRAPH_OUTPUT_PATH, 'node_purities.csv'))"
   ]
  }
 ],
 "metadata": {
  "kernelspec": {
   "display_name": "Python [conda env:probing]",
   "language": "python",
   "name": "conda-env-probing-py"
  },
  "language_info": {
   "codemirror_mode": {
    "name": "ipython",
    "version": 3
   },
   "file_extension": ".py",
   "mimetype": "text/x-python",
   "name": "python",
   "nbconvert_exporter": "python",
   "pygments_lexer": "ipython3",
   "version": "3.7.9"
  },
  "widgets": {
   "application/vnd.jupyter.widget-state+json": {
    "state": {
     "0356451034364295bc26b11433724dd6": {
      "model_module": "@jupyter-widgets/controls",
      "model_module_version": "1.5.0",
      "model_name": "DescriptionStyleModel",
      "state": {
       "description_width": ""
      }
     },
     "08ed0e0442884c5f9629775474dc2312": {
      "model_module": "@jupyter-widgets/controls",
      "model_module_version": "1.5.0",
      "model_name": "DescriptionStyleModel",
      "state": {
       "description_width": ""
      }
     },
     "410d0b129ff54f0fa4cc690f8f24ce9a": {
      "model_module": "@jupyter-widgets/controls",
      "model_module_version": "1.5.0",
      "model_name": "HTMLModel",
      "state": {
       "layout": "IPY_MODEL_83a8c090502142f49749725b3d7c2819",
       "style": "IPY_MODEL_0356451034364295bc26b11433724dd6",
       "value": "100%"
      }
     },
     "4dc1820c95364558b2cb7fa4fc48616e": {
      "model_module": "@jupyter-widgets/base",
      "model_module_version": "1.2.0",
      "model_name": "LayoutModel",
      "state": {}
     },
     "6c92e226da8045a68181db1580770a25": {
      "model_module": "@jupyter-widgets/controls",
      "model_module_version": "1.5.0",
      "model_name": "FloatProgressModel",
      "state": {
       "bar_style": "success",
       "layout": "IPY_MODEL_b358c03e56444460b654e18fc194ba10",
       "max": 177,
       "style": "IPY_MODEL_cbcd3c4c08fa4dc1bac3eda280739c74",
       "value": 177
      }
     },
     "83a8c090502142f49749725b3d7c2819": {
      "model_module": "@jupyter-widgets/base",
      "model_module_version": "1.2.0",
      "model_name": "LayoutModel",
      "state": {}
     },
     "b358c03e56444460b654e18fc194ba10": {
      "model_module": "@jupyter-widgets/base",
      "model_module_version": "1.2.0",
      "model_name": "LayoutModel",
      "state": {}
     },
     "cbcd3c4c08fa4dc1bac3eda280739c74": {
      "model_module": "@jupyter-widgets/controls",
      "model_module_version": "1.5.0",
      "model_name": "ProgressStyleModel",
      "state": {
       "description_width": ""
      }
     },
     "e37297a6c32d4bcd8c71539175bc8ad4": {
      "model_module": "@jupyter-widgets/base",
      "model_module_version": "1.2.0",
      "model_name": "LayoutModel",
      "state": {}
     },
     "e640f370d7be4fdc9fedf55b1400c43c": {
      "model_module": "@jupyter-widgets/controls",
      "model_module_version": "1.5.0",
      "model_name": "HTMLModel",
      "state": {
       "layout": "IPY_MODEL_e37297a6c32d4bcd8c71539175bc8ad4",
       "style": "IPY_MODEL_08ed0e0442884c5f9629775474dc2312",
       "value": " 177/177 [00:03&lt;00:00, 39.52it/s]"
      }
     },
     "efb25f0a42d844f3a6a33828ec82d2ce": {
      "model_module": "@jupyter-widgets/controls",
      "model_module_version": "1.5.0",
      "model_name": "HBoxModel",
      "state": {
       "children": [
        "IPY_MODEL_410d0b129ff54f0fa4cc690f8f24ce9a",
        "IPY_MODEL_6c92e226da8045a68181db1580770a25",
        "IPY_MODEL_e640f370d7be4fdc9fedf55b1400c43c"
       ],
       "layout": "IPY_MODEL_4dc1820c95364558b2cb7fa4fc48616e"
      }
     }
    },
    "version_major": 2,
    "version_minor": 0
   }
  }
 },
 "nbformat": 4,
 "nbformat_minor": 5
}
