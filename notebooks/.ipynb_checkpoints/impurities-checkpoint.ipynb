{
 "cells": [
  {
   "cell_type": "code",
   "execution_count": 1,
   "id": "7e40a708-c33d-4fdf-ab42-f2f98f6e9e31",
   "metadata": {},
   "outputs": [],
   "source": [
    "import numpy as np\n",
    "import pandas as pd\n",
    "import os\n",
    "import json\n",
    "from tqdm.notebook import tqdm\n",
    "import matplotlib.pyplot as plt\n",
    "from collections import defaultdict, Counter"
   ]
  },
  {
   "cell_type": "code",
   "execution_count": 2,
   "id": "ac720ab0-9f00-4dff-b9c3-82dfaa75c631",
   "metadata": {},
   "outputs": [],
   "source": [
    "# Paths\n",
    "LABEL_FILE = '../data/Supersense-Role/entities/train.txt'\n",
    "ACTIVATION_FILE = '../data/Supersense-Role/SS_fine_tuned.zip'\n",
    "GRAPH_OUTPUT_PATH = '../frontend/public/static/mapper_graphs/euclidean_l2_50_50/'"
   ]
  },
  {
   "cell_type": "code",
   "execution_count": 10,
   "id": "5e53b5c6-798e-45a4-8e41-c8c160989b62",
   "metadata": {},
   "outputs": [],
   "source": [
    "def node_purity(node, label):\n",
    "    metadata = node['membership']['metadata']\n",
    "    label_counts = Counter([x[3] for x in metadata])\n",
    "    return (label_counts[label], len(metadata))\n",
    "\n",
    "def compute_purities(fileindex):\n",
    "    graph_path = GRAPH_OUTPUT_PATH\n",
    "    filename = f'{fileindex}.json'\n",
    "\n",
    "    with open(os.path.join(graph_path,filename), 'r') as graph_file:\n",
    "        graph = json.load(graph_file)\n",
    "\n",
    "        point_node_purities = defaultdict(list)\n",
    "\n",
    "        for node in graph['nodes']:\n",
    "            metadata = node['membership']['metadata']\n",
    "\n",
    "            for i, point_id in enumerate(node['membership']['membership_ids']):\n",
    "                point_node_purities[point_id].append(node_purity(node, metadata[i][3]))\n",
    "                \n",
    "    return point_node_purities"
   ]
  },
  {
   "cell_type": "code",
   "execution_count": 11,
   "id": "64f72711-96f2-4044-b69e-dd3b73132a91",
   "metadata": {},
   "outputs": [
    {
     "name": "stderr",
     "output_type": "stream",
     "text": [
      "100%|████████████████████████████████████████████████████████████████████████████████| 177/177 [00:14<00:00, 12.31it/s]\n"
     ]
    }
   ],
   "source": [
    "purities = [compute_purities(fileindex) for fileindex in tqdm(range(177))]"
   ]
  },
  {
   "cell_type": "code",
   "execution_count": null,
   "id": "37f90810-b080-48dd-99da-77fc40f7941b",
   "metadata": {},
   "outputs": [],
   "source": []
  }
 ],
 "metadata": {
  "kernelspec": {
   "display_name": "Python [conda env:probing]",
   "language": "python",
   "name": "conda-env-probing-py"
  },
  "language_info": {
   "codemirror_mode": {
    "name": "ipython",
    "version": 3
   },
   "file_extension": ".py",
   "mimetype": "text/x-python",
   "name": "python",
   "nbconvert_exporter": "python",
   "pygments_lexer": "ipython3",
   "version": "3.7.9"
  },
  "widgets": {
   "application/vnd.jupyter.widget-state+json": {
    "state": {},
    "version_major": 2,
    "version_minor": 0
   }
  }
 },
 "nbformat": 4,
 "nbformat_minor": 5
}
