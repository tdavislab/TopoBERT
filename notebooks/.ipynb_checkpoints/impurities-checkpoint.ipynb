{
 "cells": [
  {
   "cell_type": "code",
   "execution_count": 18,
   "id": "7e40a708-c33d-4fdf-ab42-f2f98f6e9e31",
   "metadata": {},
   "outputs": [],
   "source": [
    "import numpy as np\n",
    "import pandas as pd\n",
    "import os\n",
    "import json\n",
    "from tqdm.notebook import tqdm\n",
    "import matplotlib.pyplot as plt\n",
    "from collections import defaultdict, Counter\n",
    "from joblib import Parallel, delayed\n",
    "from ast import literal_eval"
   ]
  },
  {
   "cell_type": "code",
   "execution_count": 2,
   "id": "ac720ab0-9f00-4dff-b9c3-82dfaa75c631",
   "metadata": {},
   "outputs": [],
   "source": [
    "# Paths\n",
    "LABEL_FILE = '../data/Supersense-Role/entities/train.txt'\n",
    "ACTIVATION_FILE = '../data/Supersense-Role/SS_fine_tuned.zip'\n",
    "GRAPH_OUTPUT_PATH = '../frontend/public/static/mapper_graphs/euclidean_l2_50_50/'\n",
    "\n",
    "NUM_EPOCHS = 177\n",
    "NUM_POINTS = 4282"
   ]
  },
  {
   "cell_type": "code",
   "execution_count": 3,
   "id": "2268ba2e-9629-4c58-948b-dac2ac7748e9",
   "metadata": {},
   "outputs": [],
   "source": [
    "def node_purity(node, label):\n",
    "    metadata = node['membership']['metadata']\n",
    "    label_counts = Counter([x[3] for x in metadata])\n",
    "    return (label_counts[label], len(metadata))\n",
    "\n",
    "def compute_purities(fileindex):\n",
    "    # compute purities for all nodes in the file\n",
    "    graph_path = GRAPH_OUTPUT_PATH\n",
    "    filename = f'{fileindex}.json'\n",
    "\n",
    "    with open(os.path.join(graph_path,filename), 'r') as graph_file:\n",
    "        graph = json.load(graph_file)\n",
    "\n",
    "        point_node_purities = defaultdict(list)\n",
    "\n",
    "        for node in graph['nodes']:\n",
    "            metadata = node['membership']['metadata']\n",
    "\n",
    "            for i, point_id in enumerate(node['membership']['membership_ids']):\n",
    "                point_node_purities[point_id].append((i, node_purity(node, metadata[i][3]), metadata[i][:4]))\n",
    "                \n",
    "    return point_node_purities\n",
    "\n",
    "# List where each element summarizes the purities of the points for a particular epoch\n",
    "# len(purities) = num of epochs"
   ]
  },
  {
   "cell_type": "code",
   "execution_count": 4,
   "id": "dad94c23-b6c1-40cc-9b2d-daeb4663fd16",
   "metadata": {},
   "outputs": [
    {
     "data": {
      "application/vnd.jupyter.widget-view+json": {
       "model_id": "b29ad01b9da842c6852bad3c0f45a059",
       "version_major": 2,
       "version_minor": 0
      },
      "text/plain": [
       "  0%|          | 0/177 [00:00<?, ?it/s]"
      ]
     },
     "metadata": {},
     "output_type": "display_data"
    },
    {
     "name": "stdout",
     "output_type": "stream",
     "text": [
      "Wall time: 8.32 s\n"
     ]
    }
   ],
   "source": [
    "%%time\n",
    "# purities = [compute_purities(fileindex) for fileindex in tqdm(range(NUM_EPOCHS))]\n",
    "purities = Parallel(n_jobs=-1)(delayed(compute_purities)(fileindex) for fileindex in tqdm(range(NUM_EPOCHS)))"
   ]
  },
  {
   "cell_type": "code",
   "execution_count": 5,
   "id": "1f0a605e-2d9e-4da3-8640-9c68bb40c5a6",
   "metadata": {},
   "outputs": [],
   "source": [
    "# consolidate purities into one \n",
    "# For each point, track all purities across all epochs\n",
    "\n",
    "def purity_summary(purities):\n",
    "    if purities is None:\n",
    "        return 0\n",
    "    else:\n",
    "        plist = [x[1] for x in purities]\n",
    "        \n",
    "        numerator = sum([x[0] for x in plist])\n",
    "        denominator = sum([x[1] for x in plist])\n",
    "        if denominator != 0:\n",
    "            return numerator / denominator\n",
    "        else:\n",
    "            return 0\n",
    "\n",
    "point_purity_tracker = defaultdict(list)\n",
    "\n",
    "for point_number in range(NUM_POINTS):\n",
    "    for iteration in range(NUM_EPOCHS):\n",
    "        \n",
    "        iteration_purity_dict = purities[iteration]\n",
    "        \n",
    "        point_purity_tracker[point_number].append((iteration, purity_summary(iteration_purity_dict[point_number])))\n",
    "        \n",
    "\n",
    "node_purities_df = pd.DataFrame(columns=['pointNum'] + [f'epoch_{x}_purity' for x in range(NUM_EPOCHS)])\n",
    "\n",
    "for pointNum in range(NUM_POINTS):\n",
    "    row = [pointNum] + [x[1] for x in point_purity_tracker[pointNum]]\n",
    "    node_purities_df.loc[pointNum] = row"
   ]
  },
  {
   "cell_type": "code",
   "execution_count": 6,
   "id": "9f4ade0b-c42d-4f58-a503-9500eb14f1ad",
   "metadata": {},
   "outputs": [],
   "source": [
    "node_purities_df.to_csv(os.path.join(GRAPH_OUTPUT_PATH, 'node_purities.csv'), index=False)"
   ]
  },
  {
   "cell_type": "code",
   "execution_count": 24,
   "id": "46d94225-5e0a-44fd-8669-82ea8946a0ff",
   "metadata": {},
   "outputs": [],
   "source": [
    "point_data = []\n",
    "\n",
    "with open('../backend/data/Supersense-Role/entities/train.txt') as point_file:\n",
    "    for idx, line in enumerate(point_file):\n",
    "        start, label = line.strip().split('\\t')\n",
    "        loc, word = start.split(':')\n",
    "        loc = literal_eval(loc)\n",
    "        point_data.append([idx, loc, word, label])"
   ]
  },
  {
   "cell_type": "code",
   "execution_count": 36,
   "id": "1d1308b0-8c7d-4c85-8c42-6e261194fd6e",
   "metadata": {},
   "outputs": [],
   "source": [
    "point_data_df = pd.DataFrame(point_data, columns=['pointNum', 'loc', 'word', 'label'])\n",
    "point_data_df.to_csv('../frontend/src/assets/data/point_data_labels.csv', index=False)"
   ]
  }
 ],
 "metadata": {
  "kernelspec": {
   "display_name": "Python [conda env:probing]",
   "language": "python",
   "name": "conda-env-probing-py"
  },
  "language_info": {
   "codemirror_mode": {
    "name": "ipython",
    "version": 3
   },
   "file_extension": ".py",
   "mimetype": "text/x-python",
   "name": "python",
   "nbconvert_exporter": "python",
   "pygments_lexer": "ipython3",
   "version": "3.7.9"
  },
  "widgets": {
   "application/vnd.jupyter.widget-state+json": {
    "state": {},
    "version_major": 2,
    "version_minor": 0
   }
  }
 },
 "nbformat": 4,
 "nbformat_minor": 5
}
